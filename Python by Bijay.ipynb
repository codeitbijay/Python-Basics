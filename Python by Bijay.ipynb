{
  "nbformat": 4,
  "nbformat_minor": 0,
  "metadata": {
    "colab": {
      "provenance": [],
      "toc_visible": true
    },
    "kernelspec": {
      "name": "python3",
      "display_name": "Python 3"
    },
    "language_info": {
      "name": "python"
    }
  },
  "cells": [
    {
      "cell_type": "markdown",
      "source": [
        "# **Python Programming Language - Introduction**"
      ],
      "metadata": {
        "id": "wPXdx8BA2j4b"
      }
    },
    {
      "cell_type": "markdown",
      "source": [
        "## **DEF:** Python is an interpreted, Object orientated , High level programming language, with dynamic semantics."
      ],
      "metadata": {
        "id": "v2fsqaq52uV7"
      }
    },
    {
      "cell_type": "markdown",
      "source": [
        "## **History of Python**\n",
        "\n",
        "Python was created by Guido van Rossum in the late 1980s, named after a satirical TV show, and has grown through distinct release phases:\n",
        "\n",
        "* Early versions (1.0–2.x) introduced functional constructs and improved memory handling.\n",
        "\n",
        "* Python 3.x ushered in modern syntax and language improvements.\n",
        "\n",
        "* The current stable version (2025) is 3.13.5, with 3.14 actively in development."
      ],
      "metadata": {
        "id": "3oJ4-PRkAGGe"
      }
    },
    {
      "cell_type": "markdown",
      "source": [
        "# New section"
      ],
      "metadata": {
        "id": "sx0ub-080zhF"
      }
    },
    {
      "cell_type": "markdown",
      "source": [
        "## **In programming, there are two main ways to run code:**\n",
        "\n",
        "* Compiled languages (like C or C++): Code is translated into machine code by a compiler before it's run. The compiled code is fast and optimized.\n",
        "\n",
        "* Interpreted languages (like Python or JavaScript): Code is read and executed line-by-line by an interpreter at runtime."
      ],
      "metadata": {
        "id": "X7kiSZFc3Im8"
      }
    },
    {
      "cell_type": "markdown",
      "source": [
        "## **Characteristics of Interpreted Languages:**\n",
        "\n",
        "* No need for a separate compilation step.\n",
        "\n",
        "* Slower than compiled languages (since execution happens line by line).\n",
        "\n",
        "* Easier to debug and test.\n",
        "\n",
        "* More flexible and portable (since you don’t need to compile for each system)."
      ],
      "metadata": {
        "id": "Hu-jbaQv3ImB"
      }
    },
    {
      "cell_type": "markdown",
      "source": [
        "## **Object Orientated Programming Language (OOP)**\n",
        "\n",
        "Object-Oriented Programming (OOP) is a programming paradigm (style or approach) that is based on the concept of \"objects\".\n",
        "\n",
        "## **Core Concepts of OOP:**\n",
        "* Class – A blueprint for creating objects.\n",
        "→ Example: Car is a class.\n",
        "\n",
        "* Object – An instance of a class.\n",
        "→ Example: myCar = Car() creates an object.\n",
        "\n",
        "* Encapsulation – Hiding internal details and only exposing necessary parts.\n",
        "→ Like using a TV remote without knowing the electronics inside.\n",
        "\n",
        "* Inheritance – One class can inherit properties and methods from another.\n",
        "→ Example: ElectricCar inherits from Car.\n",
        "\n",
        "* Polymorphism – The ability to use a shared interface for different underlying data types.\n",
        "→ Example: Different objects can have a method called start() but behave differently.\n",
        "\n",
        "* Abstraction – Focusing on essential qualities while hiding the complex details.\n",
        "\n",
        "\n",
        "**Examples of Object-Oriented Programming Languages:**\n",
        "* Java\n",
        "* C++\n",
        "* Python (supports multiple paradigms, including OOP)\n",
        "* C#\n",
        "* Ruby"
      ],
      "metadata": {
        "id": "Urn71jew4AhD"
      }
    },
    {
      "cell_type": "markdown",
      "source": [
        "## **In Programming there are two types of languages in terms of understanding:**\n",
        "\n",
        "* Low Level\n",
        "* High Level\n",
        "\n",
        "Low-level programming language is a type of programming language that is closer to machine code (binary) and further from human-readable code. It provides little or no abstraction from a computer’s hardware, which makes it faster and more efficient—but harder to learn and use.\n",
        "\n",
        "\n",
        "Python is a high-level programming language is a type of programming language that is closer to human language and further from machine (binary) code. It allows developers to write programs in a way that is easier to read, write, and understand.\n",
        "\n",
        "Examples of High-Level Programming Languages:\n",
        "* Python\n",
        "* Java\n",
        "* C#\n",
        "* JavaScript"
      ],
      "metadata": {
        "id": "YWAglwB64e8v"
      }
    },
    {
      "cell_type": "code",
      "source": [
        "#Example of High Level Python\n",
        "A= 10\n",
        "A"
      ],
      "metadata": {
        "colab": {
          "base_uri": "https://localhost:8080/"
        },
        "id": "nvPPjkrd6YfQ",
        "outputId": "0c66c67b-1fe0-4228-ce46-292a78aee3d8"
      },
      "execution_count": null,
      "outputs": [
        {
          "output_type": "execute_result",
          "data": {
            "text/plain": [
              "10"
            ]
          },
          "metadata": {},
          "execution_count": 3
        }
      ]
    },
    {
      "cell_type": "markdown",
      "source": [
        "## **Dynamic Semantics**\n",
        "Dynamic semantics refers to the behavior of a program when it runs — specifically, what the program does as opposed to what it looks like.\n",
        "\n",
        "* Dynamic semantics = What happens during program execution (Python)\n",
        "* Static semantics = What the code means at compile/check time (before running) , (C++)\n",
        "\n",
        "## **Python uses Dynamic semantics**\n",
        "\n",
        "* This means you can reassign variables to different data types.\n",
        "* This makes Python very flexible in assigning data types, this is different than other languages that are “Statically-Typed”\n",
        "\n",
        "## **Pros of Dynamic Typing:**\n",
        "\n",
        "* Very easy to work with\n",
        "* Faster development time\n",
        "\n",
        "## **Cons of Dynamic Typing:**\n",
        "\n",
        "* May result in bugs for unexpected data types!\n",
        "* You need to be aware of type()\n",
        "\n"
      ],
      "metadata": {
        "id": "WJZ3dTeY8OsW"
      }
    },
    {
      "cell_type": "code",
      "source": [
        "my_dog = 2\n",
        "my_dog = [\"Tommy\", \"Jimmy\"]\n",
        "\n",
        "print(my_dog)\n",
        "#In other languages it would have thrown an error but in python its okay."
      ],
      "metadata": {
        "colab": {
          "base_uri": "https://localhost:8080/"
        },
        "id": "CLAZwI3v9szL",
        "outputId": "a3479347-ec64-43ce-8336-0962c88c6ed9"
      },
      "execution_count": null,
      "outputs": [
        {
          "output_type": "stream",
          "name": "stdout",
          "text": [
            "['Tommy', 'Jimmy']\n"
          ]
        }
      ]
    },
    {
      "cell_type": "code",
      "source": [
        "#Dynamic Semantics\n",
        "a = 5\n",
        "a = 10\n",
        "print(a)"
      ],
      "metadata": {
        "colab": {
          "base_uri": "https://localhost:8080/"
        },
        "id": "ZSeVoK3Z84LD",
        "outputId": "6ee9a316-067c-460c-91cf-be9882feaa89"
      },
      "execution_count": null,
      "outputs": [
        {
          "output_type": "stream",
          "name": "stdout",
          "text": [
            "10\n"
          ]
        }
      ]
    },
    {
      "cell_type": "code",
      "source": [
        "b = 5\n",
        "b = 2 * b\n",
        "print(b)\n",
        "print(type(b))  # datatype of vaiable b ,  -> denotes that variable b is an integer"
      ],
      "metadata": {
        "colab": {
          "base_uri": "https://localhost:8080/"
        },
        "id": "OTs2POzs9GOS",
        "outputId": "51d32306-c953-495f-a560-c68071ce985c"
      },
      "execution_count": null,
      "outputs": [
        {
          "output_type": "stream",
          "name": "stdout",
          "text": [
            "10\n",
            "<class 'int'>\n"
          ]
        }
      ]
    },
    {
      "cell_type": "code",
      "source": [
        "c = 0.5\n",
        "print(c)\n",
        "type(c)   # variable c contains decimal , so it is a variable of float type"
      ],
      "metadata": {
        "colab": {
          "base_uri": "https://localhost:8080/"
        },
        "id": "q-JRhVK59Kl7",
        "outputId": "eb317984-96d5-4cf5-ae40-dd2e59fec694"
      },
      "execution_count": null,
      "outputs": [
        {
          "output_type": "stream",
          "name": "stdout",
          "text": [
            "0.5\n"
          ]
        },
        {
          "output_type": "execute_result",
          "data": {
            "text/plain": [
              "float"
            ]
          },
          "metadata": {},
          "execution_count": 7
        }
      ]
    },
    {
      "cell_type": "markdown",
      "source": [
        "## **Why Python?**\n",
        "Python is one of the most popular and beginner-friendly programming languages. It’s used across industries — from web development and automation to data science and AI.\n",
        "\n",
        "* Simple and readable syntax (easy to learn)\n",
        "\n",
        "* Versatile: used in web dev, data science, AI, automation, etc.\n",
        "\n",
        "* Interpreted and dynamically typed (no need to compile or declare types)\n",
        "\n",
        "* Massive standard library and third-party packages\n",
        "\n",
        "* Cross-platform (Windows, macOS, Linux)\n",
        "\n",
        "* Large community and strong support\n",
        "\n",
        "* Great for rapid prototyping and development"
      ],
      "metadata": {
        "id": "3ZejJP0n_FLA"
      }
    },
    {
      "cell_type": "markdown",
      "source": [
        "# **Variables in python**"
      ],
      "metadata": {
        "id": "ojkOBQcGBpKy"
      }
    },
    {
      "cell_type": "markdown",
      "source": [
        "## DEF: A variable in Python is a name that refers to a value stored in memory. Think of it as a label you stick on a box to remember what’s inside."
      ],
      "metadata": {
        "id": "9z400pfTB9Mh"
      }
    },
    {
      "cell_type": "markdown",
      "source": [
        "## **Rules for variable names**\n",
        "* Names can not start with a number.\n",
        "* There can be no spaces in the name, use _ instead.\n",
        "* Can't use any of these symbols :'\",<>/?|()!@#$%^&*~-+\n",
        "* It's considered best practice (PEP8) that names are lowercase.\n",
        "* Avoid using words that have special meaning in Python like \"list\" and \"str\""
      ],
      "metadata": {
        "id": "qiAN8uZzCa6-"
      }
    },
    {
      "cell_type": "code",
      "source": [
        "#Syntax\n",
        "variable_name = \"value\"\n",
        "a = 10\n",
        "print(a)"
      ],
      "metadata": {
        "colab": {
          "base_uri": "https://localhost:8080/"
        },
        "id": "t6HHk7kuCr5b",
        "outputId": "a706065e-0514-4762-9958-f336d2956f5f"
      },
      "execution_count": null,
      "outputs": [
        {
          "output_type": "stream",
          "name": "stdout",
          "text": [
            "10\n"
          ]
        }
      ]
    },
    {
      "cell_type": "markdown",
      "source": [
        "## **Interning of Variables**\n",
        "Interning is a method of storing only one copy of each distinct immutable value, which must be immutable so that shared instances remain consistent. It is primarily used to save memory and allow faster comparisons\n",
        "\n",
        "Python reuses some immutable objects (like small integers and short strings) to save memory and speed up performance."
      ],
      "metadata": {
        "id": "t_hyLxwgQ1kF"
      }
    },
    {
      "cell_type": "code",
      "source": [
        "a = 10\n",
        "b = 10\n",
        "print(id(a), id(b))  # same address, id() used to return the address of the memory location\n"
      ],
      "metadata": {
        "colab": {
          "base_uri": "https://localhost:8080/"
        },
        "id": "EoRcjDBARGS3",
        "outputId": "4858a0c7-66e1-4b2f-80dc-99c066e0d247"
      },
      "execution_count": null,
      "outputs": [
        {
          "output_type": "stream",
          "name": "stdout",
          "text": [
            "10758024 10758024\n"
          ]
        }
      ]
    },
    {
      "cell_type": "markdown",
      "source": [
        "But always remember the interning is applicable for values from -5 to 256, Some short strings (e.g., \"hello\") and Booleans (True, False)"
      ],
      "metadata": {
        "id": "KcRakgFlRcNM"
      }
    },
    {
      "cell_type": "code",
      "source": [
        "a = 100\n",
        "b = 100\n",
        "print(id(a) == id(b))  # True\n",
        "\n",
        "x = 1000\n",
        "y = 1000\n",
        "print(id(x) == id(y))  # False (outside the interning range)"
      ],
      "metadata": {
        "colab": {
          "base_uri": "https://localhost:8080/"
        },
        "id": "vXxlptn6RtFv",
        "outputId": "d7551d19-d1f3-49b2-8310-208aa5d89a76"
      },
      "execution_count": null,
      "outputs": [
        {
          "output_type": "stream",
          "name": "stdout",
          "text": [
            "True\n",
            "False\n"
          ]
        }
      ]
    },
    {
      "cell_type": "markdown",
      "source": [
        "## **Aliasing of Variables**\n",
        "Aliasing occurs when two or more variables refer to the same object in memory."
      ],
      "metadata": {
        "id": "8ZzBMbOySFAj"
      }
    },
    {
      "cell_type": "code",
      "source": [
        "a = [1, 2]\n",
        "b = a\n",
        "b[0] = 100\n",
        "print(a)  # [100, 2]"
      ],
      "metadata": {
        "colab": {
          "base_uri": "https://localhost:8080/"
        },
        "id": "FVVZsqfjSSn-",
        "outputId": "f5126601-8c03-4e74-c2f7-7956e085bd6b"
      },
      "execution_count": null,
      "outputs": [
        {
          "output_type": "stream",
          "name": "stdout",
          "text": [
            "[100, 2]\n"
          ]
        }
      ]
    },
    {
      "cell_type": "markdown",
      "source": [
        "## **Rebinding doesn't change the original**"
      ],
      "metadata": {
        "id": "VANumZXISblx"
      }
    },
    {
      "cell_type": "code",
      "source": [
        "a = [1, 2]\n",
        "b = a\n",
        "b = [3, 4]  # b now points to a new list\n",
        "print(a)    # [1, 2]\n",
        "print(b)    # [3, 4]\n"
      ],
      "metadata": {
        "colab": {
          "base_uri": "https://localhost:8080/"
        },
        "id": "NEg-RuCuSeFx",
        "outputId": "4c330499-edf9-4645-915d-87a5cdf1006c"
      },
      "execution_count": null,
      "outputs": [
        {
          "output_type": "stream",
          "name": "stdout",
          "text": [
            "[1, 2]\n",
            "[3, 4]\n"
          ]
        }
      ]
    },
    {
      "cell_type": "markdown",
      "source": [
        "# Character Set in Python"
      ],
      "metadata": {
        "id": "ZtmHSOygl8__"
      }
    },
    {
      "cell_type": "markdown",
      "source": [
        "## **Letters**\n",
        "* Uppercase: A to Z\n",
        "* Lowercase: a to z\n",
        "* Used in identifiers (like variable names), keywords, and strings."
      ],
      "metadata": {
        "id": "wtPDtkw9mMdq"
      }
    },
    {
      "cell_type": "markdown",
      "source": [
        "## **Digits**\n",
        "* 0 to 9\n",
        "* Used in numbers and identifiers (but cannot start a variable name)."
      ],
      "metadata": {
        "id": "u-YUZ1JNpD74"
      }
    },
    {
      "cell_type": "markdown",
      "source": [
        "## **Special Symbols**\n",
        "* These include characters like: + - * / % = < > ( ) [ ] { } , . : ; ' \" # @ & | \\ ^ ~"
      ],
      "metadata": {
        "id": "YdImPb-9pHAi"
      }
    },
    {
      "cell_type": "markdown",
      "source": [
        "## Whitespace Characters\n",
        "These control spacing and indentation.\n",
        "* Space\n",
        "* Tab (\\t)\n",
        "* Newline (\\n)\n",
        "* Carriage return (\\r)"
      ],
      "metadata": {
        "id": "n7YSUmodpJlq"
      }
    },
    {
      "cell_type": "markdown",
      "source": [
        "## **Escape Sequences**\n",
        "These are used to represent characters that can't be typed directly.\n",
        "* \\n — newline\n",
        "* \\t — tab\n",
        "* \\\\ — backslash\n",
        "* \\' — single quote\n",
        "* \\\" — double quote"
      ],
      "metadata": {
        "id": "gERibiQrpN7L"
      }
    },
    {
      "cell_type": "markdown",
      "source": [
        "## **Unicode Characters**\n",
        "Python supports Unicode, which means you can use characters from many languages and symbols beyond just English letters and digits."
      ],
      "metadata": {
        "id": "SXw5JHOhpQgE"
      }
    },
    {
      "cell_type": "markdown",
      "source": [
        "# Data Types in Python\n",
        "Data types in Python — these are the categories of values that variables can hold. Python is dynamically typed, which means you don’t have to declare a variable’s type explicitly — Python figures it out at runtime."
      ],
      "metadata": {
        "id": "v9suNOyWpXvp"
      }
    },
    {
      "cell_type": "markdown",
      "metadata": {
        "id": "5d1d1a5c"
      },
      "source": [
        "## Numeric Types\n",
        "\n",
        "Used to store numbers.\n",
        "\n",
        "*   int — Integer (whole numbers)\n",
        "    Example: `5`, `-10`, `1000`\n",
        "\n",
        "*   float — Floating-point (decimal numbers)\n",
        "    Example: `3.14`, `-0.5`, `2.0`\n",
        "\n",
        "*   complex — Complex numbers with real and imaginary parts\n",
        "    Example: `2 + 3j`"
      ]
    },
    {
      "cell_type": "markdown",
      "metadata": {
        "id": "b5d7688f"
      },
      "source": [
        "## String Type\n",
        "\n",
        "Used to store text.\n",
        "\n",
        "*   str — A sequence of characters enclosed in quotes (single or double)\n",
        "    Example: `\"hello\"`, `'Python'`, `\"123\"`"
      ]
    },
    {
      "cell_type": "markdown",
      "metadata": {
        "id": "e8c8e6d3"
      },
      "source": [
        "## Boolean Type\n",
        "\n",
        "Represents truth values.\n",
        "\n",
        "*   bool — Only two values: `True` or `False`\n",
        "    Example: `is_active = True`"
      ]
    },
    {
      "cell_type": "markdown",
      "metadata": {
        "id": "8ccd3764"
      },
      "source": [
        "## Sequence Types\n",
        "\n",
        "Ordered collections of items.\n",
        "\n",
        "*   list — A mutable (changeable) sequence\n",
        "    Example: `[1, 2, 3]`, `['a', 'b', 'c']`\n",
        "\n",
        "*   tuple — An immutable (unchangeable) sequence\n",
        "    Example: `(1, 2, 3)`, `('x', 'y')`\n",
        "\n",
        "*   range — A sequence of numbers, often used in loops\n",
        "    Example: `range(0, 5)`"
      ]
    },
    {
      "cell_type": "markdown",
      "metadata": {
        "id": "e6dd81a2"
      },
      "source": [
        "## Mapping Type\n",
        "\n",
        "*   dict — A collection of key-value pairs\n",
        "    Example: `{'name': 'Alice', 'age': 25}`"
      ]
    },
    {
      "cell_type": "markdown",
      "metadata": {
        "id": "a19f05e7"
      },
      "source": [
        "## Set Types\n",
        "\n",
        "Unordered collections of unique items.\n",
        "\n",
        "*   set — Mutable set\n",
        "    Example: `{1, 2, 3}`\n",
        "\n",
        "*   frozenset — Immutable set\n",
        "    Example: `frozenset([1, 2, 3])`"
      ]
    },
    {
      "cell_type": "markdown",
      "metadata": {
        "id": "49cbf63c"
      },
      "source": [
        "## None Type\n",
        "\n",
        "*   NoneType — Represents the absence of a value\n",
        "    Example: `x = None`"
      ]
    },
    {
      "cell_type": "markdown",
      "metadata": {
        "id": "30025a1a"
      },
      "source": [
        "# Basic Arithmetic Operations"
      ]
    },
    {
      "cell_type": "markdown",
      "metadata": {
        "id": "a4a8a008"
      },
      "source": [
        "## Addition"
      ]
    },
    {
      "cell_type": "code",
      "metadata": {
        "colab": {
          "base_uri": "https://localhost:8080/"
        },
        "id": "2d4f3244",
        "outputId": "8badeb4f-3cdd-4d29-8407-f89b84bdd791"
      },
      "source": [
        "# Addition\n",
        "a = 10\n",
        "b = 5\n",
        "sum_result = a + b\n",
        "print(f\"The sum of {a} and {b} is: {sum_result}\")"
      ],
      "execution_count": 17,
      "outputs": [
        {
          "output_type": "stream",
          "name": "stdout",
          "text": [
            "The sum of 10 and 5 is: 15\n"
          ]
        }
      ]
    },
    {
      "cell_type": "markdown",
      "metadata": {
        "id": "8b83933d"
      },
      "source": [
        "## Subtraction"
      ]
    },
    {
      "cell_type": "code",
      "metadata": {
        "colab": {
          "base_uri": "https://localhost:8080/"
        },
        "id": "eedc8fed",
        "outputId": "f2535754-e436-4a9b-a3af-3cc39eebf71c"
      },
      "source": [
        "# Subtraction\n",
        "a = 10\n",
        "b = 5\n",
        "difference = a - b\n",
        "print(f\"The difference between {a} and {b} is: {difference}\")"
      ],
      "execution_count": 18,
      "outputs": [
        {
          "output_type": "stream",
          "name": "stdout",
          "text": [
            "The difference between 10 and 5 is: 5\n"
          ]
        }
      ]
    },
    {
      "cell_type": "markdown",
      "metadata": {
        "id": "904f7678"
      },
      "source": [
        "## Multiplication"
      ]
    },
    {
      "cell_type": "code",
      "metadata": {
        "colab": {
          "base_uri": "https://localhost:8080/"
        },
        "id": "32fe3166",
        "outputId": "e470977c-87b5-4c1f-97fd-a323ac93ea65"
      },
      "source": [
        "# Multiplication\n",
        "a = 10\n",
        "b = 5\n",
        "product = a * b\n",
        "print(f\"The product of {a} and {b} is: {product}\")"
      ],
      "execution_count": 19,
      "outputs": [
        {
          "output_type": "stream",
          "name": "stdout",
          "text": [
            "The product of 10 and 5 is: 50\n"
          ]
        }
      ]
    },
    {
      "cell_type": "markdown",
      "metadata": {
        "id": "523256ef"
      },
      "source": [
        "## Division"
      ]
    },
    {
      "cell_type": "code",
      "metadata": {
        "colab": {
          "base_uri": "https://localhost:8080/"
        },
        "id": "246453ed",
        "outputId": "1db2922b-d67c-416b-fd39-3184331473fc"
      },
      "source": [
        "# Division\n",
        "a = 10\n",
        "b = 5\n",
        "division_result = a / b\n",
        "print(f\"The result of dividing {a} by {b} is: {division_result}\")"
      ],
      "execution_count": 20,
      "outputs": [
        {
          "output_type": "stream",
          "name": "stdout",
          "text": [
            "The result of dividing 10 by 5 is: 2.0\n"
          ]
        }
      ]
    },
    {
      "cell_type": "markdown",
      "metadata": {
        "id": "5de18ce3"
      },
      "source": [
        "## Power"
      ]
    },
    {
      "cell_type": "code",
      "metadata": {
        "colab": {
          "base_uri": "https://localhost:8080/"
        },
        "id": "34cb0b80",
        "outputId": "edce1704-d538-43f0-d60d-cce5b498cf39"
      },
      "source": [
        "# Power\n",
        "a = 2\n",
        "b = 3\n",
        "power_result = a ** b\n",
        "print(f\"{a} raised to the power of {b} is: {power_result}\")"
      ],
      "execution_count": 21,
      "outputs": [
        {
          "output_type": "stream",
          "name": "stdout",
          "text": [
            "2 raised to the power of 3 is: 8\n"
          ]
        }
      ]
    },
    {
      "cell_type": "markdown",
      "metadata": {
        "id": "262486a6"
      },
      "source": [
        "## Quotient (Integer Division)"
      ]
    },
    {
      "cell_type": "code",
      "metadata": {
        "colab": {
          "base_uri": "https://localhost:8080/"
        },
        "id": "3798a5a7",
        "outputId": "810a3b55-cb65-4848-ad2e-b497804d1777"
      },
      "source": [
        "# Quotient (Integer Division)\n",
        "a = 10\n",
        "b = 3\n",
        "quotient = a // b\n",
        "print(f\"The integer division of {a} by {b} is: {quotient}\")"
      ],
      "execution_count": 22,
      "outputs": [
        {
          "output_type": "stream",
          "name": "stdout",
          "text": [
            "The integer division of 10 by 3 is: 3\n"
          ]
        }
      ]
    },
    {
      "cell_type": "markdown",
      "metadata": {
        "id": "59339d2c"
      },
      "source": [
        "## Remainder (Modulo)"
      ]
    },
    {
      "cell_type": "code",
      "metadata": {
        "colab": {
          "base_uri": "https://localhost:8080/"
        },
        "id": "e649f6b0",
        "outputId": "297ad84f-13a4-4dde-f3a8-23816a98dabd"
      },
      "source": [
        "# Remainder (Modulo)\n",
        "a = 10\n",
        "b = 3\n",
        "remainder = a % b\n",
        "print(f\"The remainder of {a} divided by {b} is: {remainder}\")"
      ],
      "execution_count": 23,
      "outputs": [
        {
          "output_type": "stream",
          "name": "stdout",
          "text": [
            "The remainder of 10 divided by 3 is: 1\n"
          ]
        }
      ]
    },
    {
      "cell_type": "markdown",
      "metadata": {
        "id": "7ee8734b"
      },
      "source": [
        "## Order of Operations (BODMAS/PEMDAS)\n",
        "\n",
        "Python follows the standard order of operations (Parentheses/Brackets, Exponents, Multiplication and Division, Addition and Subtraction)."
      ]
    },
    {
      "cell_type": "code",
      "metadata": {
        "colab": {
          "base_uri": "https://localhost:8080/"
        },
        "id": "b5920590",
        "outputId": "bc1c1946-cfea-4db9-9ce9-c630040cedd6"
      },
      "source": [
        "# Order of Operations (BODMAS/PEMDAS)\n",
        "result = (2 + 3) * 4 - 6 / 2\n",
        "print(f\"Result of (2 + 3) * 4 - 6 / 2 is: {result}\")"
      ],
      "execution_count": 24,
      "outputs": [
        {
          "output_type": "stream",
          "name": "stdout",
          "text": [
            "Result of (2 + 3) * 4 - 6 / 2 is: 17.0\n"
          ]
        }
      ]
    },
    {
      "cell_type": "markdown",
      "metadata": {
        "id": "33cd62e3"
      },
      "source": [
        "## Why doesn't 0.1 + 0.2 - 0.3 equal 0.0?\n",
        "\n",
        "This is a common question and relates to how computers represent floating-point numbers. Most decimal fractions cannot be represented exactly in binary (base-2) floating-point. This leads to small rounding errors.\n",
        "\n",
        "When you perform calculations like `0.1 + 0.2`, the result is not exactly `0.3`, but a number very close to it due to these tiny inaccuracies in binary representation. When you then subtract `0.3` (which also has its own inexact binary representation), the result is not exactly `0.0`, but a very small number close to zero.\n",
        "\n",
        "Here's the breakdown:\n",
        "\n",
        "0.1 in binary ≈ 0.00011001100110011... (repeating forever)\n",
        "\n",
        "0.2 in binary ≈ 0.0011001100110011... (also repeating)\n",
        "\n",
        "0.3 in binary ≈ 0.0100110011001100... (also repeating)\n",
        "\n",
        "These numbers are stored as approximations, not exact values. So when you do:\n",
        "\n",
        "0.1 + 0.2 = 0.30000000000000004\n",
        "\n",
        "you're seeing the tiny error that accumulates due to those approximations. When you subtract 0.3, which is also an approximation, the result isn’t exactly zero:\n",
        "\n",
        "0.1 + 0.2 - 0.3 = 5.551115123125783e-17\n",
        "\n",
        "That's a very small number close to zero, but not exactly zero."
      ]
    },
    {
      "cell_type": "code",
      "metadata": {
        "colab": {
          "base_uri": "https://localhost:8080/"
        },
        "id": "0aab35b1",
        "outputId": "462d25fb-a881-48c4-ddf7-bf9eaad2f48e"
      },
      "source": [
        "# Demonstrate floating-point inaccuracy\n",
        "print(0.1 + 0.2)\n",
        "print(0.1 + 0.2 - 0.3)"
      ],
      "execution_count": 25,
      "outputs": [
        {
          "output_type": "stream",
          "name": "stdout",
          "text": [
            "0.30000000000000004\n",
            "5.551115123125783e-17\n"
          ]
        }
      ]
    },
    {
      "cell_type": "markdown",
      "metadata": {
        "id": "88b7c108"
      },
      "source": [
        "## How can I compare floating-point numbers for equality?\n",
        "\n",
        "Due to the potential for small rounding errors, directly comparing floating-point numbers for equality using `==` is often unreliable. Instead, you should check if the absolute difference between the two numbers is within a small tolerance."
      ]
    },
    {
      "cell_type": "code",
      "metadata": {
        "colab": {
          "base_uri": "https://localhost:8080/"
        },
        "id": "19e0731b",
        "outputId": "7b79de48-a245-4d92-a0bb-a025578ff094"
      },
      "source": [
        "import math\n",
        "# Comparing floating-point numbers\n",
        "a = 0.1 + 0.2\n",
        "b = 0.3\n",
        "\n",
        "print(a == b)  # This might be False\n",
        "\n",
        "# A better way to compare\n",
        "math.isclose(0.1 + 0.2, 0.3)"
      ],
      "execution_count": 27,
      "outputs": [
        {
          "output_type": "stream",
          "name": "stdout",
          "text": [
            "False\n",
            "True\n"
          ]
        },
        {
          "output_type": "execute_result",
          "data": {
            "text/plain": [
              "True"
            ]
          },
          "metadata": {},
          "execution_count": 27
        }
      ]
    },
    {
      "cell_type": "markdown",
      "metadata": {
        "id": "cd5f9f65"
      },
      "source": [
        "## How can I format floating-point numbers for display?\n",
        "\n",
        "When displaying floating-point numbers, you can use f-strings or the `format()` method to control the number of decimal places shown. This can make the output appear as expected, even if the internal representation has small inaccuracies."
      ]
    },
    {
      "cell_type": "code",
      "metadata": {
        "id": "49f8829c"
      },
      "source": [
        "# Formatting floating-point numbers\n",
        "x = 0.1 + 0.2 - 0.3\n",
        "print(f\"The result is: {x}\")\n",
        "print(f\"The result formatted to 10 decimal places is: {x:.10f}\")"
      ],
      "execution_count": null,
      "outputs": []
    },
    {
      "cell_type": "markdown",
      "metadata": {
        "id": "e8a2bc2a"
      },
      "source": [
        "## What is the `decimal` module?\n",
        "\n",
        "For applications that require exact decimal arithmetic (e.g., financial calculations), Python provides the `decimal` module. This module supports arbitrary-precision decimal floating-point arithmetic."
      ]
    },
    {
      "cell_type": "code",
      "metadata": {
        "id": "aad591e4"
      },
      "source": [
        "# Using the decimal module for exact arithmetic\n",
        "from decimal import Decimal\n",
        "\n",
        "a_dec = Decimal('0.1')\n",
        "b_dec = Decimal('0.2')\n",
        "c_dec = Decimal('0.3')\n",
        "\n",
        "result_dec = a_dec + b_dec - c_dec\n",
        "print(result_dec)"
      ],
      "execution_count": null,
      "outputs": []
    },
    {
      "cell_type": "markdown",
      "metadata": {
        "id": "eb6acb63"
      },
      "source": [
        "# Introduction to Strings\n",
        "\n",
        "Strings are fundamental data types in Python used to represent sequences of characters. They are created by enclosing characters within either single quotes (`'`) or double quotes (`\"`).\n",
        "\n",
        "*   **Using Single Quotes:**"
      ]
    },
    {
      "cell_type": "code",
      "metadata": {
        "colab": {
          "base_uri": "https://localhost:8080/",
          "height": 36
        },
        "id": "c052a5b6",
        "outputId": "825263f0-6bca-467a-90f0-ea2343401398"
      },
      "source": [
        "    \"world\"\n",
        "    \"Hello\"\n",
        "    \" I don't do that \""
      ],
      "execution_count": 34,
      "outputs": [
        {
          "output_type": "execute_result",
          "data": {
            "text/plain": [
              "\" I don't do that \""
            ],
            "application/vnd.google.colaboratory.intrinsic+json": {
              "type": "string"
            }
          },
          "metadata": {},
          "execution_count": 34
        }
      ]
    },
    {
      "cell_type": "code",
      "metadata": {
        "colab": {
          "base_uri": "https://localhost:8080/",
          "height": 36
        },
        "id": "d43967aa",
        "outputId": "8111c09f-d4e1-4249-94d0-0bb3a5ace4f2"
      },
      "source": [
        "    \"I'm going on a run.\""
      ],
      "execution_count": 35,
      "outputs": [
        {
          "output_type": "execute_result",
          "data": {
            "text/plain": [
              "\"I'm going on a run.\""
            ],
            "application/vnd.google.colaboratory.intrinsic+json": {
              "type": "string"
            }
          },
          "metadata": {},
          "execution_count": 35
        }
      ]
    },
    {
      "cell_type": "code",
      "metadata": {
        "colab": {
          "base_uri": "https://localhost:8080/"
        },
        "id": "0d5af5ce",
        "outputId": "d3c86c06-4b1a-43c5-9044-0946d79bd1d1"
      },
      "source": [
        "# The purpose of the print() statement in Python is to display output to the screen\n",
        "print(\"hello\")\n",
        "print(\"I'm going on a run.\")\n",
        "\n",
        "# You can also assign strings to variables\n",
        "str_var = \"I'm going on a run.\"\n",
        "print(str_var)"
      ],
      "execution_count": 36,
      "outputs": [
        {
          "output_type": "stream",
          "name": "stdout",
          "text": [
            "hello\n",
            "I'm going on a run.\n",
            "I'm going on a run.\n"
          ]
        }
      ]
    },
    {
      "cell_type": "markdown",
      "metadata": {
        "id": "53c781bb"
      },
      "source": [
        "## String Indexing\n",
        "\n",
        "Strings are ordered sequences, which means we can access individual characters using their position or index. In Python, indexing starts from 0 for the first character.\n",
        "\n",
        "*   **Accessing characters by positive index:**"
      ]
    },
    {
      "cell_type": "code",
      "metadata": {
        "colab": {
          "base_uri": "https://localhost:8080/"
        },
        "id": "10cb4a8b",
        "outputId": "4ccd91c9-346b-405a-9b91-29d9e1fb5c55"
      },
      "source": [
        "my_string = \"Python\"\n",
        "# Accessing the first character\n",
        "print(my_string[0])\n",
        "# Accessing the third character\n",
        "print(my_string[2])"
      ],
      "execution_count": 37,
      "outputs": [
        {
          "output_type": "stream",
          "name": "stdout",
          "text": [
            "P\n",
            "t\n"
          ]
        }
      ]
    },
    {
      "cell_type": "markdown",
      "metadata": {
        "id": "66887f29"
      },
      "source": [
        "*   **Accessing characters by negative index:**\n",
        "\n",
        "Negative indexing allows you to access characters from the end of the string. The last character is at index -1, the second to last at -2, and so on."
      ]
    },
    {
      "cell_type": "code",
      "metadata": {
        "colab": {
          "base_uri": "https://localhost:8080/"
        },
        "id": "bb744a2b",
        "outputId": "8434ec74-31b9-4dd4-8afc-8b533585335e"
      },
      "source": [
        "my_string = \"Python\"\n",
        "# Accessing the last character\n",
        "print(my_string[-1])\n",
        "# Accessing the second to last character\n",
        "print(my_string[-2])"
      ],
      "execution_count": 38,
      "outputs": [
        {
          "output_type": "stream",
          "name": "stdout",
          "text": [
            "n\n",
            "o\n"
          ]
        }
      ]
    },
    {
      "cell_type": "markdown",
      "metadata": {
        "id": "74b0356b"
      },
      "source": [
        "## String Slicing\n",
        "\n",
        "Slicing allows you to extract a sequence of characters from a string. You can specify the start, stop, and step of the slice using the syntax `[start:stop:step]`.\n",
        "\n",
        "*   `start`: The index of the first character to include (inclusive). If omitted, it defaults to the beginning of the string.\n",
        "*   `stop`: The index of the first character *not* to include (exclusive). If omitted, it defaults to the end of the string.\n",
        "*   `step`: The number of characters to skip between each character in the slice. If omitted, it defaults to 1."
      ]
    },
    {
      "cell_type": "markdown",
      "metadata": {
        "id": "532c0d6f"
      },
      "source": [
        "*   **Basic Slicing:**"
      ]
    },
    {
      "cell_type": "code",
      "metadata": {
        "colab": {
          "base_uri": "https://localhost:8080/"
        },
        "id": "a12ec9df",
        "outputId": "1982de92-93ce-47f6-87d6-f678b6e391b9"
      },
      "source": [
        "my_string = \"Programming\"\n",
        "# Get characters from index 3 to the end\n",
        "print(my_string[3:])\n",
        "# Get characters from the beginning up to (but not including) index 7\n",
        "print(my_string[:7])\n",
        "# Get characters from index 2 up to (but not including) index 6\n",
        "print(my_string[2:6])"
      ],
      "execution_count": 39,
      "outputs": [
        {
          "output_type": "stream",
          "name": "stdout",
          "text": [
            "gramming\n",
            "Program\n",
            "ogra\n"
          ]
        }
      ]
    },
    {
      "cell_type": "markdown",
      "metadata": {
        "id": "40dcc985"
      },
      "source": [
        "*   **Slicing with Step:**"
      ]
    },
    {
      "cell_type": "code",
      "metadata": {
        "colab": {
          "base_uri": "https://localhost:8080/"
        },
        "id": "90b6a49d",
        "outputId": "60f341e9-86b2-4b28-decb-89e24b1ff403"
      },
      "source": [
        "my_string = \"Programming\"\n",
        "# Get every second character\n",
        "print(my_string[::2])\n",
        "# Get every third character starting from index 1\n",
        "print(my_string[1::3])\n",
        "# Get every second character from index 1 up to (but not including) index 8\n",
        "print(my_string[1:8:2])"
      ],
      "execution_count": 40,
      "outputs": [
        {
          "output_type": "stream",
          "name": "stdout",
          "text": [
            "Pormig\n",
            "rrmg\n",
            "rgam\n"
          ]
        }
      ]
    },
    {
      "cell_type": "markdown",
      "metadata": {
        "id": "9090c91c"
      },
      "source": [
        "*   **Negative Slicing:**"
      ]
    },
    {
      "cell_type": "code",
      "metadata": {
        "colab": {
          "base_uri": "https://localhost:8080/"
        },
        "id": "83c7a4a9",
        "outputId": "36982aa3-68be-4bd7-9549-ce396b1e0157"
      },
      "source": [
        "my_string = \"Programming\"\n",
        "# Get the last 3 characters\n",
        "print(my_string[-3:])\n",
        "# Get characters from the beginning up to (but not including) the last 4 characters\n",
        "print(my_string[:-4])\n",
        "# Reverse the string\n",
        "print(my_string[::-1])"
      ],
      "execution_count": 41,
      "outputs": [
        {
          "output_type": "stream",
          "name": "stdout",
          "text": [
            "ing\n",
            "Program\n",
            "gnimmargorP\n"
          ]
        }
      ]
    },
    {
      "cell_type": "markdown",
      "metadata": {
        "id": "363387a1"
      },
      "source": [
        "## String Immutability\n",
        "\n",
        "In Python, strings are **immutable**. This means that once a string is created, its contents cannot be changed. Any operation that appears to modify a string actually creates a *new* string with the desired changes.\n",
        "\n",
        "Attempting to change a character at a specific index will result in a `TypeError`."
      ]
    },
    {
      "cell_type": "code",
      "metadata": {
        "colab": {
          "base_uri": "https://localhost:8080/"
        },
        "id": "05d43493",
        "outputId": "350518e8-671a-41bf-f4ba-a6342df7e737"
      },
      "source": [
        "my_string = \"hello\"\n",
        "\n",
        "# Attempting to change a character will result in an error\n",
        "# my_string[0] = 'H'  # Uncommenting this line will cause a TypeError\n",
        "\n",
        "# Instead, you create a new string with the desired changes\n",
        "new_string = 'H' + my_string[1:]\n",
        "print(new_string)"
      ],
      "execution_count": 42,
      "outputs": [
        {
          "output_type": "stream",
          "name": "stdout",
          "text": [
            "Hello\n"
          ]
        }
      ]
    },
    {
      "cell_type": "markdown",
      "metadata": {
        "id": "e2548202"
      },
      "source": [
        "## Common String Methods\n",
        "\n",
        "Python provides a rich set of built-in methods that you can use to perform various operations on strings. Here are some of the most common ones:"
      ]
    },
    {
      "cell_type": "markdown",
      "metadata": {
        "id": "63c0641e"
      },
      "source": [
        "### `len()`\n",
        "\n",
        "The `len()` function returns the number of characters in a string."
      ]
    },
    {
      "cell_type": "code",
      "metadata": {
        "colab": {
          "base_uri": "https://localhost:8080/"
        },
        "id": "96b0abc9",
        "outputId": "69479336-d0f5-4080-945e-f5a07135f274"
      },
      "source": [
        "my_string = \"Hello World\"\n",
        "string_length = len(my_string)\n",
        "print(f\"The length of the string '{my_string}' is: {string_length}\")"
      ],
      "execution_count": 43,
      "outputs": [
        {
          "output_type": "stream",
          "name": "stdout",
          "text": [
            "The length of the string 'Hello World' is: 11\n"
          ]
        }
      ]
    },
    {
      "cell_type": "markdown",
      "metadata": {
        "id": "02c4a403"
      },
      "source": [
        "### `.upper()` and `.lower()`\n",
        "\n",
        "These methods return a new string with all characters converted to uppercase or lowercase, respectively."
      ]
    },
    {
      "cell_type": "code",
      "metadata": {
        "colab": {
          "base_uri": "https://localhost:8080/"
        },
        "id": "4d497d87",
        "outputId": "54273150-00a8-4301-9c35-cd42679b43c2"
      },
      "source": [
        "my_string = \"Hello World\"\n",
        "uppercase_string = my_string.upper()\n",
        "lowercase_string = my_string.lower()\n",
        "\n",
        "print(f\"Original string: {my_string}\")\n",
        "print(f\"Uppercase: {uppercase_string}\")\n",
        "print(f\"Lowercase: {lowercase_string}\")"
      ],
      "execution_count": 44,
      "outputs": [
        {
          "output_type": "stream",
          "name": "stdout",
          "text": [
            "Original string: Hello World\n",
            "Uppercase: HELLO WORLD\n",
            "Lowercase: hello world\n"
          ]
        }
      ]
    },
    {
      "cell_type": "markdown",
      "metadata": {
        "id": "de1cdef8"
      },
      "source": [
        "### `.split()`\n",
        "\n",
        "The `.split()` method splits a string into a list of substrings based on a specified delimiter. If no delimiter is provided, it splits by whitespace."
      ]
    },
    {
      "cell_type": "code",
      "metadata": {
        "colab": {
          "base_uri": "https://localhost:8080/"
        },
        "id": "ec8c6fb6",
        "outputId": "422b2d49-30c9-442a-fffe-a69ce278d2aa"
      },
      "source": [
        "my_string = \"Hello World, Python Programming\"\n",
        "\n",
        "# Split by whitespace\n",
        "split_by_space = my_string.split()\n",
        "print(f\"Splitting by space: {split_by_space}\")\n",
        "\n",
        "# Split by a comma and space\n",
        "split_by_comma_space = my_string.split(', ')\n",
        "print(f\"Splitting by comma and space: {split_by_comma_space}\")"
      ],
      "execution_count": 45,
      "outputs": [
        {
          "output_type": "stream",
          "name": "stdout",
          "text": [
            "Splitting by space: ['Hello', 'World,', 'Python', 'Programming']\n",
            "Splitting by comma and space: ['Hello World', 'Python Programming']\n"
          ]
        }
      ]
    },
    {
      "cell_type": "markdown",
      "metadata": {
        "id": "779c0134"
      },
      "source": [
        "### `.join()`\n",
        "\n",
        "The `.join()` method is a string method that concatenates the elements of an iterable (like a list or tuple) into a single string. The string on which the method is called is used as the separator between the elements."
      ]
    },
    {
      "cell_type": "code",
      "metadata": {
        "colab": {
          "base_uri": "https://localhost:8080/"
        },
        "id": "6d1b6752",
        "outputId": "9eaa00a0-b7ad-43b6-a403-12074bb28a47"
      },
      "source": [
        "my_list = [\"Hello\", \"World\", \"Python\"]\n",
        "\n",
        "# Join with a space\n",
        "joined_with_space = \" \".join(my_list)\n",
        "print(f\"Joining with space: {joined_with_space}\")\n",
        "\n",
        "# Join with a hyphen\n",
        "joined_with_hyphen = \"-\".join(my_list)\n",
        "print(f\"Joining with hyphen: {joined_with_hyphen}\")\n",
        "\n",
        "# Join with an empty string\n",
        "joined_without_separator = \"\".join(my_list)\n",
        "print(f\"Joining without separator: {joined_without_separator}\")"
      ],
      "execution_count": 46,
      "outputs": [
        {
          "output_type": "stream",
          "name": "stdout",
          "text": [
            "Joining with space: Hello World Python\n",
            "Joining with hyphen: Hello-World-Python\n",
            "Joining without separator: HelloWorldPython\n"
          ]
        }
      ]
    },
    {
      "cell_type": "markdown",
      "metadata": {
        "id": "f95241b0"
      },
      "source": [
        "## String Formatting\n",
        "\n",
        "String formatting allows you to create strings that combine static text with dynamic values from variables. Python offers several ways to format strings, with f-strings being the most modern and recommended method."
      ]
    },
    {
      "cell_type": "markdown",
      "metadata": {
        "id": "ba33ec9c"
      },
      "source": [
        "### F-strings (Formatted String Literals)\n",
        "\n",
        "F-strings provide a concise and readable way to embed expressions inside string literals. You create an f-string by prefixing the string with the letter `f`. Inside the string, you can place expressions within curly braces `{}`."
      ]
    },
    {
      "cell_type": "code",
      "metadata": {
        "colab": {
          "base_uri": "https://localhost:8080/"
        },
        "id": "fdb80142",
        "outputId": "224e5140-05c5-4ef8-8faa-255e9212ef79"
      },
      "source": [
        "name = \"Alice\"\n",
        "age = 30\n",
        "greeting = f\"Hello, my name is {name} and I am {age} years old.\"\n",
        "print(greeting)\n",
        "\n",
        "# You can also include expressions directly\n",
        "price = 10\n",
        "tax = 0.05\n",
        "total = f\"The total price is ${price * (1 + tax):.2f}\" # Format to 2 decimal places\n",
        "print(total)"
      ],
      "execution_count": 47,
      "outputs": [
        {
          "output_type": "stream",
          "name": "stdout",
          "text": [
            "Hello, my name is Alice and I am 30 years old.\n",
            "The total price is $10.50\n"
          ]
        }
      ]
    },
    {
      "cell_type": "markdown",
      "metadata": {
        "id": "89df3d65"
      },
      "source": [
        "### `.format()` Method\n",
        "\n",
        "The `.format()` method is an older but still widely used way to format strings. It uses curly braces `{}` as placeholders for values that are passed as arguments to the method."
      ]
    },
    {
      "cell_type": "code",
      "metadata": {
        "colab": {
          "base_uri": "https://localhost:8080/"
        },
        "id": "a5bd0634",
        "outputId": "9d63a759-2b0a-4c72-e9c8-1a1b76891677"
      },
      "source": [
        "name = \"Bob\"\n",
        "age = 25\n",
        "greeting = \"Hello, my name is {} and I am {} years old.\".format(name, age)\n",
        "print(greeting)\n",
        "\n",
        "# You can use index numbers in the placeholders\n",
        "greeting_indexed = \"Hello, my name is {0} and I am {1} years old. {0} is learning Python.\".format(name, age)\n",
        "print(greeting_indexed)\n",
        "\n",
        "# You can use keyword arguments\n",
        "greeting_keyword = \"Hello, my name is {name} and I am {age} years old.\".format(name=\"Charlie\", age=35)\n",
        "print(greeting_keyword)"
      ],
      "execution_count": 48,
      "outputs": [
        {
          "output_type": "stream",
          "name": "stdout",
          "text": [
            "Hello, my name is Bob and I am 25 years old.\n",
            "Hello, my name is Bob and I am 25 years old. Bob is learning Python.\n",
            "Hello, my name is Charlie and I am 35 years old.\n"
          ]
        }
      ]
    },
    {
      "cell_type": "markdown",
      "metadata": {
        "id": "f65174a1"
      },
      "source": [
        "### Percent-formatting (Legacy)\n",
        "\n",
        "This is an older style of formatting inherited from C. It uses the modulo operator (`%`) and format specifiers (e.g., `%s` for string, `%d` for integer, `%f` for float). While still supported, f-strings and `.format()` are generally preferred for new code."
      ]
    },
    {
      "cell_type": "code",
      "metadata": {
        "colab": {
          "base_uri": "https://localhost:8080/"
        },
        "id": "e0785e8a",
        "outputId": "989d8052-c529-4cc7-d50f-39d9ad8c1454"
      },
      "source": [
        "name = \"David\"\n",
        "age = 40\n",
        "greeting = \"Hello, my name is %s and I am %d years old.\" % (name, age)\n",
        "print(greeting)\n",
        "\n",
        "# Formatting a float\n",
        "pi = 3.14159\n",
        "formatted_pi = \"The value of pi is approximately %.2f\" % pi # Format to 2 decimal places\n",
        "print(formatted_pi)"
      ],
      "execution_count": 49,
      "outputs": [
        {
          "output_type": "stream",
          "name": "stdout",
          "text": [
            "Hello, my name is David and I am 40 years old.\n",
            "The value of pi is approximately 3.14\n"
          ]
        }
      ]
    },
    {
      "cell_type": "markdown",
      "metadata": {
        "id": "f10343da"
      },
      "source": [
        "## Common String Interview Questions\n",
        "\n",
        "Here are some frequently asked interview questions related to strings in Python, along with their solutions and explanations."
      ]
    },
    {
      "cell_type": "markdown",
      "metadata": {
        "id": "42dab8e0"
      },
      "source": [
        "### How to reverse a string?\n",
        "\n",
        "You can reverse a string using slicing with a step of -1."
      ]
    },
    {
      "cell_type": "code",
      "metadata": {
        "colab": {
          "base_uri": "https://localhost:8080/"
        },
        "id": "4653f53d",
        "outputId": "bfd8c1a2-ba95-4b4b-c89b-5b49b519db4d"
      },
      "source": [
        "# Reversing a string\n",
        "my_string = \"Python\"\n",
        "reversed_string = my_string[::-1]\n",
        "print(f\"Original string: {my_string}\")\n",
        "print(f\"Reversed string: {reversed_string}\")"
      ],
      "execution_count": 50,
      "outputs": [
        {
          "output_type": "stream",
          "name": "stdout",
          "text": [
            "Original string: Python\n",
            "Reversed string: nohtyP\n"
          ]
        }
      ]
    },
    {
      "cell_type": "markdown",
      "metadata": {
        "id": "5cf427a3"
      },
      "source": [
        "### How to check if a string is a palindrome?\n",
        "\n",
        "A palindrome is a string that reads the same forwards and backward. You can check for a palindrome by comparing the original string with its reversed version."
      ]
    },
    {
      "cell_type": "code",
      "metadata": {
        "colab": {
          "base_uri": "https://localhost:8080/"
        },
        "id": "f497d01c",
        "outputId": "b3663f02-0090-4bac-e5bc-4b964de15e3b"
      },
      "source": [
        "# Checking for a palindrome\n",
        "def is_palindrome(s):\n",
        "  \"\"\"Checks if a string is a palindrome.\"\"\"\n",
        "  return s == s[::-1]\n",
        "\n",
        "print(f\"'racecar' is a palindrome: {is_palindrome('racecar')}\")\n",
        "print(f\"'hello' is a palindrome: {is_palindrome('hello')}\")"
      ],
      "execution_count": 51,
      "outputs": [
        {
          "output_type": "stream",
          "name": "stdout",
          "text": [
            "'racecar' is a palindrome: True\n",
            "'hello' is a palindrome: False\n"
          ]
        }
      ]
    },
    {
      "cell_type": "markdown",
      "metadata": {
        "id": "a28d6b36"
      },
      "source": [
        "### How to count the frequency of characters in a string?\n",
        "\n",
        "You can use a dictionary to store the count of each character in a string."
      ]
    },
    {
      "cell_type": "code",
      "metadata": {
        "colab": {
          "base_uri": "https://localhost:8080/"
        },
        "id": "e0e3df49",
        "outputId": "8d42fe6b-8701-4c31-c943-b1b47c8c6b62"
      },
      "source": [
        "# Counting character frequency\n",
        "my_string = \"programming\"\n",
        "char_frequency = {}\n",
        "\n",
        "for char in my_string:\n",
        "  if char in char_frequency:\n",
        "    char_frequency[char] += 1\n",
        "  else:\n",
        "    char_frequency[char] = 1\n",
        "\n",
        "print(f\"Character frequency in '{my_string}': {char_frequency}\")"
      ],
      "execution_count": 52,
      "outputs": [
        {
          "output_type": "stream",
          "name": "stdout",
          "text": [
            "Character frequency in 'programming': {'p': 1, 'r': 2, 'o': 1, 'g': 2, 'a': 1, 'm': 2, 'i': 1, 'n': 1}\n"
          ]
        }
      ]
    },
    {
      "cell_type": "markdown",
      "metadata": {
        "id": "6c253b8f"
      },
      "source": [
        "### Print \"Hello World\"\n",
        "\n",
        "Use what you know about the `print()` function to print out the phrase \"Hello World\". Make sure your capitalization and spacing match."
      ]
    },
    {
      "cell_type": "code",
      "metadata": {
        "colab": {
          "base_uri": "https://localhost:8080/"
        },
        "id": "d62d74d0",
        "outputId": "82483896-57c7-442b-d82b-8947b01bd38d"
      },
      "source": [
        "# Print \"Hello World\"\n",
        "print(\"Hello World\")"
      ],
      "execution_count": 53,
      "outputs": [
        {
          "output_type": "stream",
          "name": "stdout",
          "text": [
            "Hello World\n"
          ]
        }
      ]
    },
    {
      "cell_type": "markdown",
      "metadata": {
        "id": "1e3da2d6"
      },
      "source": [
        "### Get the letter 'r' from 'Hello World' using indexing\n",
        "\n",
        "Write a string index that returns just the letter 'r' from 'Hello World'."
      ]
    },
    {
      "cell_type": "code",
      "metadata": {
        "colab": {
          "base_uri": "https://localhost:8080/"
        },
        "id": "ae407226",
        "outputId": "6249a8d1-f9aa-4bc8-c416-2efdc455e73e"
      },
      "source": [
        "# Get the letter 'r' using indexing\n",
        "print('Hello World'[8])"
      ],
      "execution_count": 54,
      "outputs": [
        {
          "output_type": "stream",
          "name": "stdout",
          "text": [
            "r\n"
          ]
        }
      ]
    },
    {
      "cell_type": "markdown",
      "metadata": {
        "id": "13286b21"
      },
      "source": [
        "### Slice the word 'ink' from 'tinker'\n",
        "\n",
        "Use string slicing to grab the word 'ink' from inside 'tinker'."
      ]
    },
    {
      "cell_type": "code",
      "metadata": {
        "colab": {
          "base_uri": "https://localhost:8080/"
        },
        "id": "9d45aeef",
        "outputId": "92451c39-6c37-46fb-fb68-998d5c85e1c7"
      },
      "source": [
        "# Slice the word 'ink'\n",
        "print('tinker'[1:4])"
      ],
      "execution_count": 55,
      "outputs": [
        {
          "output_type": "stream",
          "name": "stdout",
          "text": [
            "ink\n"
          ]
        }
      ]
    },
    {
      "cell_type": "markdown",
      "metadata": {
        "id": "b7e92746"
      },
      "source": [
        "### Format the phrase 'Python rules!'\n",
        "\n",
        "Write an expression using any of the string formatting methods (except f-strings) to return the phrase 'Python rules!'."
      ]
    },
    {
      "cell_type": "code",
      "metadata": {
        "colab": {
          "base_uri": "https://localhost:8080/"
        },
        "id": "faee6a24",
        "outputId": "2259c391-7c92-48eb-e274-8ab4e775d07e"
      },
      "source": [
        "# Format the phrase 'Python rules!'\n",
        "print(\"{0} {1}{2}\".format(\"Python\",\"rules\",\"!\"))"
      ],
      "execution_count": 56,
      "outputs": [
        {
          "output_type": "stream",
          "name": "stdout",
          "text": [
            "Python rules!\n"
          ]
        }
      ]
    },
    {
      "cell_type": "markdown",
      "metadata": {
        "id": "935a9020"
      },
      "source": [
        "## Summary of Strings in Python\n",
        "\n",
        "In this section, we've explored the fundamental aspects of strings in Python. We learned that strings are ordered sequences of characters, defined using single or double quotes. We delved into:\n",
        "\n",
        "*   **Indexing:** Accessing individual characters using positive and negative indices.\n",
        "*   **Slicing:** Extracting substrings using the `[start:stop:step]` syntax.\n",
        "*   **Immutability:** Understanding that strings cannot be changed after creation, and operations that modify strings actually create new ones.\n",
        "*   **Common Methods:** Utilizing built-in methods like `len()`, `.upper()`, `.lower()`, `.split()`, and `.join()` for various string manipulations.\n",
        "*   **Formatting:** Creating dynamic strings using f-strings, the `.format()` method, and legacy percent-formatting.\n",
        "*   **Interview Questions:** Solving common string-related problems like reversing a string, checking for palindromes, and counting character frequencies.\n",
        "\n",
        "Strings are a crucial data type in Python, and a solid understanding of these concepts is essential for working with text data effectively."
      ]
    }
  ]
}